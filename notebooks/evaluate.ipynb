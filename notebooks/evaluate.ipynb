{
 "cells": [
  {
   "cell_type": "markdown",
   "id": "cd86215d",
   "metadata": {},
   "source": [
    "# Evaluation \n",
    "\n",
    "Evaluate model performance"
   ]
  },
  {
   "cell_type": "code",
   "execution_count": 5,
   "id": "c7628320",
   "metadata": {},
   "outputs": [],
   "source": [
    "import os\n",
    "import pickle"
   ]
  },
  {
   "cell_type": "code",
   "execution_count": 6,
   "id": "1638b12f",
   "metadata": {},
   "outputs": [],
   "source": [
    "from sklearn.metrics import precision_score, recall_score, f1_score,confusion_matrix, classification_report"
   ]
  },
  {
   "cell_type": "code",
   "execution_count": 7,
   "id": "4401916e",
   "metadata": {},
   "outputs": [],
   "source": [
    "dir = \"../tmpo86sw7ay/storage/\""
   ]
  },
  {
   "cell_type": "code",
   "execution_count": 8,
   "id": "1d29fad6",
   "metadata": {},
   "outputs": [],
   "source": [
    "def load_artifact(targ_file:str):\n",
    "    targ_path = os.path.join(dir,targ_file)\n",
    "\n",
    "    with open(targ_path,'rb') as fp:\n",
    "        test_artifact = pickle.load(fp)\n",
    "\n",
    "    return test_artifact"
   ]
  },
  {
   "cell_type": "code",
   "execution_count": 9,
   "id": "a1ff4451",
   "metadata": {},
   "outputs": [
    {
     "data": {
      "text/html": [
       "<div>\n",
       "<style scoped>\n",
       "    .dataframe tbody tr th:only-of-type {\n",
       "        vertical-align: middle;\n",
       "    }\n",
       "\n",
       "    .dataframe tbody tr th {\n",
       "        vertical-align: top;\n",
       "    }\n",
       "\n",
       "    .dataframe thead th {\n",
       "        text-align: right;\n",
       "    }\n",
       "</style>\n",
       "<table border=\"1\" class=\"dataframe\">\n",
       "  <thead>\n",
       "    <tr style=\"text-align: right;\">\n",
       "      <th></th>\n",
       "      <th>rating_account_id</th>\n",
       "      <th>customer_id</th>\n",
       "      <th>available_gb</th>\n",
       "      <th>gross_mrc</th>\n",
       "      <th>y_predicted</th>\n",
       "      <th>y</th>\n",
       "    </tr>\n",
       "  </thead>\n",
       "  <tbody>\n",
       "    <tr>\n",
       "      <th>75721</th>\n",
       "      <td>150626</td>\n",
       "      <td>4.716517</td>\n",
       "      <td>20</td>\n",
       "      <td>39.49</td>\n",
       "      <td>1</td>\n",
       "      <td>0</td>\n",
       "    </tr>\n",
       "    <tr>\n",
       "      <th>80184</th>\n",
       "      <td>178040</td>\n",
       "      <td>3.112550</td>\n",
       "      <td>0</td>\n",
       "      <td>15.61</td>\n",
       "      <td>1</td>\n",
       "      <td>0</td>\n",
       "    </tr>\n",
       "    <tr>\n",
       "      <th>19864</th>\n",
       "      <td>135135</td>\n",
       "      <td>5.177121</td>\n",
       "      <td>0</td>\n",
       "      <td>35.51</td>\n",
       "      <td>1</td>\n",
       "      <td>0</td>\n",
       "    </tr>\n",
       "    <tr>\n",
       "      <th>76699</th>\n",
       "      <td>397194</td>\n",
       "      <td>3.626402</td>\n",
       "      <td>None</td>\n",
       "      <td>64.69</td>\n",
       "      <td>0</td>\n",
       "      <td>0</td>\n",
       "    </tr>\n",
       "    <tr>\n",
       "      <th>92991</th>\n",
       "      <td>892779</td>\n",
       "      <td>5.793666</td>\n",
       "      <td>10</td>\n",
       "      <td>39.49</td>\n",
       "      <td>1</td>\n",
       "      <td>0</td>\n",
       "    </tr>\n",
       "    <tr>\n",
       "      <th>...</th>\n",
       "      <td>...</td>\n",
       "      <td>...</td>\n",
       "      <td>...</td>\n",
       "      <td>...</td>\n",
       "      <td>...</td>\n",
       "      <td>...</td>\n",
       "    </tr>\n",
       "    <tr>\n",
       "      <th>32595</th>\n",
       "      <td>197979</td>\n",
       "      <td>5.430421</td>\n",
       "      <td>0</td>\n",
       "      <td>64.69</td>\n",
       "      <td>1</td>\n",
       "      <td>0</td>\n",
       "    </tr>\n",
       "    <tr>\n",
       "      <th>29313</th>\n",
       "      <td>760829</td>\n",
       "      <td>5.181971</td>\n",
       "      <td>40</td>\n",
       "      <td>62.04</td>\n",
       "      <td>0</td>\n",
       "      <td>0</td>\n",
       "    </tr>\n",
       "    <tr>\n",
       "      <th>37862</th>\n",
       "      <td>984519</td>\n",
       "      <td>2.601349</td>\n",
       "      <td>0</td>\n",
       "      <td>24.90</td>\n",
       "      <td>1</td>\n",
       "      <td>0</td>\n",
       "    </tr>\n",
       "    <tr>\n",
       "      <th>53421</th>\n",
       "      <td>925527</td>\n",
       "      <td>2.376234</td>\n",
       "      <td>50</td>\n",
       "      <td>8.98</td>\n",
       "      <td>0</td>\n",
       "      <td>0</td>\n",
       "    </tr>\n",
       "    <tr>\n",
       "      <th>42410</th>\n",
       "      <td>851264</td>\n",
       "      <td>1.517546</td>\n",
       "      <td>50</td>\n",
       "      <td>35.51</td>\n",
       "      <td>0</td>\n",
       "      <td>0</td>\n",
       "    </tr>\n",
       "  </tbody>\n",
       "</table>\n",
       "<p>20000 rows × 6 columns</p>\n",
       "</div>"
      ],
      "text/plain": [
       "       rating_account_id customer_id available_gb  gross_mrc  y_predicted  y\n",
       "75721             150626    4.716517           20      39.49            1  0\n",
       "80184             178040    3.112550            0      15.61            1  0\n",
       "19864             135135    5.177121            0      35.51            1  0\n",
       "76699             397194    3.626402         None      64.69            0  0\n",
       "92991             892779    5.793666           10      39.49            1  0\n",
       "...                  ...         ...          ...        ...          ... ..\n",
       "32595             197979    5.430421            0      64.69            1  0\n",
       "29313             760829    5.181971           40      62.04            0  0\n",
       "37862             984519    2.601349            0      24.90            1  0\n",
       "53421             925527    2.376234           50       8.98            0  0\n",
       "42410             851264    1.517546           50      35.51            0  0\n",
       "\n",
       "[20000 rows x 6 columns]"
      ]
     },
     "execution_count": 9,
     "metadata": {},
     "output_type": "execute_result"
    }
   ],
   "source": [
    "predictions_df = load_artifact(\"predictions\")\n",
    "predictions_df"
   ]
  },
  {
   "cell_type": "code",
   "execution_count": 10,
   "id": "13f72d2a",
   "metadata": {},
   "outputs": [],
   "source": [
    "def calculate_metrics(df): \n",
    "    precision = precision_score(predictions_df['y'], predictions_df['y_predicted'])\n",
    "    recall = recall_score(predictions_df['y'], predictions_df['y_predicted'])\n",
    "    f1 = f1_score(predictions_df['y'], predictions_df['y_predicted'])\n",
    "\n",
    "    print(f'precision: {precision}, recall: {recall} and f1: {f1}')\n",
    "    print(\"Confusion Matrix:\\n\", confusion_matrix(predictions_df['y'], predictions_df['y_predicted']))\n",
    "    print(\"\\nClassification Report:\\n\", classification_report(predictions_df['y'], predictions_df['y_predicted']))"
   ]
  },
  {
   "cell_type": "code",
   "execution_count": 11,
   "id": "12460ebe",
   "metadata": {},
   "outputs": [
    {
     "name": "stdout",
     "output_type": "stream",
     "text": [
      "precision: 0.09121022122323436, recall: 0.5460339943342776 and f1: 0.15631018753167764\n",
      "Confusion Matrix:\n",
      " [[10906  7682]\n",
      " [  641   771]]\n",
      "\n",
      "Classification Report:\n",
      "               precision    recall  f1-score   support\n",
      "\n",
      "           0       0.94      0.59      0.72     18588\n",
      "           1       0.09      0.55      0.16      1412\n",
      "\n",
      "    accuracy                           0.58     20000\n",
      "   macro avg       0.52      0.57      0.44     20000\n",
      "weighted avg       0.88      0.58      0.68     20000\n",
      "\n"
     ]
    }
   ],
   "source": [
    "calculate_metrics(predictions_df)"
   ]
  },
  {
   "cell_type": "code",
   "execution_count": null,
   "id": "91ca5650",
   "metadata": {},
   "outputs": [],
   "source": []
  }
 ],
 "metadata": {
  "kernelspec": {
   "display_name": "Python 3",
   "language": "python",
   "name": "python3"
  },
  "language_info": {
   "codemirror_mode": {
    "name": "ipython",
    "version": 3
   },
   "file_extension": ".py",
   "mimetype": "text/x-python",
   "name": "python",
   "nbconvert_exporter": "python",
   "pygments_lexer": "ipython3",
   "version": "3.12.1"
  }
 },
 "nbformat": 4,
 "nbformat_minor": 5
}
